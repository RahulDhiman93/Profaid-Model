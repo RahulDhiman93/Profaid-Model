{
  "nbformat": 4,
  "nbformat_minor": 0,
  "metadata": {
    "colab": {
      "provenance": [],
      "authorship_tag": "ABX9TyPrEQtD2ICbWjJP2V2JStbu",
      "include_colab_link": true
    },
    "kernelspec": {
      "name": "python3",
      "display_name": "Python 3"
    },
    "language_info": {
      "name": "python"
    }
  },
  "cells": [
    {
      "cell_type": "markdown",
      "metadata": {
        "id": "view-in-github",
        "colab_type": "text"
      },
      "source": [
        "<a href=\"https://colab.research.google.com/github/RahulDhiman93/Profaid-Model/blob/main/PROFAID.ipynb\" target=\"_parent\"><img src=\"https://colab.research.google.com/assets/colab-badge.svg\" alt=\"Open In Colab\"/></a>"
      ]
    },
    {
      "cell_type": "code",
      "execution_count": null,
      "metadata": {
        "id": "gifRwkiu2Qeb"
      },
      "outputs": [],
      "source": [
        "from google.colab import drive\n",
        "drive.mount('/content/drive')"
      ]
    },
    {
      "cell_type": "code",
      "source": [
        "pip install tensorflow scikit-learn"
      ],
      "metadata": {
        "id": "yAZEz5pq312E"
      },
      "execution_count": null,
      "outputs": []
    },
    {
      "cell_type": "code",
      "source": [
        "pip install seaborn"
      ],
      "metadata": {
        "id": "lN_cWoEF96na"
      },
      "execution_count": null,
      "outputs": []
    },
    {
      "cell_type": "code",
      "source": [
        "import pandas as pd\n",
        "from sklearn.model_selection import train_test_split\n",
        "from sklearn.feature_extraction.text import TfidfVectorizer\n",
        "from sklearn.linear_model import LogisticRegression\n",
        "from sklearn.metrics import accuracy_score\n",
        "import matplotlib.pyplot as plt\n",
        "import joblib\n",
        "import tensorflow as tf\n",
        "\n",
        "df = pd.read_csv('/content/drive/MyDrive/LLM.csv')\n",
        "df = df.dropna()\n",
        "\n",
        "print(df, \"\\n\")\n",
        "\n",
        "X = df['Text'].values\n",
        "y = df['Label'].values\n",
        "\n",
        "X_train, X_test, y_train, y_test = train_test_split(X, y, test_size=0.1, random_state=42)\n",
        "\n",
        "vectorizer = TfidfVectorizer(max_features=100000, ngram_range=(1, 1), min_df=1, max_df=0.2)\n",
        "X_train_vectorized = vectorizer.fit_transform(X_train)\n",
        "X_test_vectorized = vectorizer.transform(X_test)\n",
        "\n",
        "model = LogisticRegression()\n",
        "model.fit(X_train_vectorized, y_train)\n",
        "\n",
        "y_pred = model.predict(X_test_vectorized)\n",
        "\n",
        "accuracy = accuracy_score(y_test, y_pred)\n",
        "print(\"Accuracy:\", accuracy)"
      ],
      "metadata": {
        "colab": {
          "base_uri": "https://localhost:8080/"
        },
        "id": "msG8FFuC3GBa",
        "outputId": "3f525deb-ce59-4683-9442-c981099d400e"
      },
      "execution_count": 88,
      "outputs": [
        {
          "output_type": "stream",
          "name": "stdout",
          "text": [
            "                                                   Text    Label\n",
            "0                      y r u always l8 to the meetings?  student\n",
            "1     The project team embraced a user-centric desig...       ai\n",
            "2     i dont like dealing with risks, it's too stres...  student\n",
            "3      i dont worry about reliability, it's good enough  student\n",
            "4     i dont care about human-centered design, just ...  student\n",
            "...                                                 ...      ...\n",
            "1098  The development of quantum encryption ensures ...       ai\n",
            "1099  i dont care about social media, just give me t...  student\n",
            "1100  i dont care about multi-method approaches, jus...  student\n",
            "1101  i dont understand variables, just give me the ...  student\n",
            "1102      i dont worry about encryption, it's overrated  student\n",
            "\n",
            "[1102 rows x 2 columns] \n",
            "\n",
            "Accuracy: 1.0\n"
          ]
        }
      ]
    },
    {
      "cell_type": "code",
      "source": [
        "import seaborn as sns\n",
        "from sklearn.metrics import confusion_matrix\n",
        "\n",
        "# Confusion matrix\n",
        "conf_matrix = confusion_matrix(y_test, y_pred)\n",
        "\n",
        "# Plot confusion matrix as a heatmap\n",
        "plt.figure(figsize=(8, 6))\n",
        "sns.heatmap(conf_matrix, annot=True, fmt='d', cmap='Blues', xticklabels=['Negative', 'Positive'], yticklabels=['Negative', 'Positive'])\n",
        "plt.xlabel('Predicted')\n",
        "plt.ylabel('Actual')\n",
        "plt.title('Confusion Matrix')\n",
        "plt.show()"
      ],
      "metadata": {
        "colab": {
          "base_uri": "https://localhost:8080/",
          "height": 564
        },
        "id": "Gw1ZeEok90Ty",
        "outputId": "e88ed557-d750-4533-9d31-43098323db38"
      },
      "execution_count": 89,
      "outputs": [
        {
          "output_type": "display_data",
          "data": {
            "text/plain": [
              "<Figure size 800x600 with 2 Axes>"
            ],
            "image/png": "[encoded data removed]"
          },
          "metadata": {}
        }
      ]
    },
    {
      "cell_type": "code",
      "source": [
        "random_string = \"hey I wrote this text guess I'am a student or AI?\"\n",
        "\n",
        "new_text_vectorized = vectorizer.transform([random_string])\n",
        "\n",
        "predicted_label = model.predict(new_text_vectorized)[0]\n",
        "\n",
        "print(f\"Random String: {random_string}\")\n",
        "print(f\"Predicted Label: {predicted_label}\")"
      ],
      "metadata": {
        "colab": {
          "base_uri": "https://localhost:8080/"
        },
        "id": "6u3oN3_b5C1K",
        "outputId": "25035a1b-cca3-45fc-aacd-0ff711ba1aa5"
      },
      "execution_count": 90,
      "outputs": [
        {
          "output_type": "stream",
          "name": "stdout",
          "text": [
            "Random String: hey I wrote this text guess I'am a student or AI?\n",
            "Predicted Label: student\n"
          ]
        }
      ]
    },
    {
      "cell_type": "code",
      "source": [
        "joblib.dump(model, '/content/drive/MyDrive/profaid_prod_model.joblib')"
      ],
      "metadata": {
        "colab": {
          "base_uri": "https://localhost:8080/"
        },
        "id": "8dTY8r7HAmD5",
        "outputId": "27b3fb24-d4d0-4513-c262-985a28bd9332"
      },
      "execution_count": 95,
      "outputs": [
        {
          "output_type": "execute_result",
          "data": {
            "text/plain": [
              "['/content/drive/MyDrive/profaid_prod_model.joblib']"
            ]
          },
          "metadata": {},
          "execution_count": 95
        }
      ]
    },
    {
      "cell_type": "code",
      "source": [
        "joblib.dump(vectorizer, '/content/drive/MyDrive/profaid_prod_vectorizer.joblib')"
      ],
      "metadata": {
        "colab": {
          "base_uri": "https://localhost:8080/"
        },
        "id": "jSFhMifGEx1n",
        "outputId": "badb9523-785a-4f4d-b9fa-1cb5d9189658"
      },
      "execution_count": 96,
      "outputs": [
        {
          "output_type": "execute_result",
          "data": {
            "text/plain": [
              "['/content/drive/MyDrive/profaid_prod_vectorizer.joblib']"
            ]
          },
          "metadata": {},
          "execution_count": 96
        }
      ]
    },
    {
      "cell_type": "code",
      "source": [
        "X_processed = vectorizer.transform(X).toarray()\n",
        "\n",
        "graph = tf.Graph()\n",
        "with graph.as_default():\n",
        "    input_features = tf.convert_to_tensor(X_processed, dtype=tf.float32)\n",
        "\n",
        "    model = tf.Module()\n",
        "    model.predict = tf.function(lambda x: your_model_predict_function(x))\n",
        "    tf.saved_model.save(model, 'Profaid_Prod')"
      ],
      "metadata": {
        "id": "-C7mnG5z9KF9"
      },
      "execution_count": 87,
      "outputs": []
    }
  ]
}